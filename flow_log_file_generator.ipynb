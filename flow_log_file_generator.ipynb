{
 "cells": [
  {
   "cell_type": "code",
   "execution_count": 3,
   "id": "a82aab80",
   "metadata": {},
   "outputs": [
    {
     "name": "stdout",
     "output_type": "stream",
     "text": [
      "Generated flow_log.txt with 100000 entries.\n"
     ]
    }
   ],
   "source": [
    "import random\n",
    "import time\n",
    "\n",
    "def random_ip():\n",
    "    return \".\".join(str(random.randint(0, 255)) for _ in range(4))\n",
    "\n",
    "def generate_flow_log_file(filename=\"flow_log.txt\", num_entries=100000):\n",
    "    actions = [\"ACCEPT\", \"REJECT\"]\n",
    "    log_statuses = [\"OK\", \"NODATA\", \"SKIPDATA\"]\n",
    "    protocols = [1, 6, 17]  # ICMP(1), TCP(6), UDP(17)\n",
    "\n",
    "    with open(filename, \"w\", encoding=\"ascii\") as f:\n",
    "        for _ in range(num_entries):\n",
    "            version = 2\n",
    "            account_id = str(random.randint(100000000000, 999999999999))\n",
    "            eni_id = f\"eni-{random.randint(1000, 9999):04x}\"\n",
    "            srcaddr = random_ip()\n",
    "            dstaddr = random_ip()\n",
    "            srcport = random.randint(1, 65535)\n",
    "            dstport = random.randint(1, 65535)\n",
    "            protocol = random.choice(protocols)\n",
    "            packets = random.randint(1, 1000)\n",
    "            bytes_ = packets * random.randint(50, 1500)\n",
    "            now = int(time.time())\n",
    "            start = now - random.randint(0, 3600)\n",
    "            end = start + random.randint(0, 300)\n",
    "            action = random.choice(actions)\n",
    "            log_status = random.choice(log_statuses)\n",
    "\n",
    "            line = (\n",
    "                f\"{version} {account_id} {eni_id} \"\n",
    "                f\"{srcaddr} {dstaddr} {srcport} {dstport} {protocol} \"\n",
    "                f\"{packets} {bytes_} {start} {end} {action} {log_status}\\n\"\n",
    "            )\n",
    "            f.write(line)\n",
    "    print(f\"Generated {filename} with {num_entries} entries.\")\n",
    "# Generate the flow log file\n",
    "generate_flow_log_file(\"flow_log.txt\", num_entries=100000)"
   ]
  },
  {
   "cell_type": "code",
   "execution_count": null,
   "id": "5a3af580",
   "metadata": {},
   "outputs": [],
   "source": []
  }
 ],
 "metadata": {
  "kernelspec": {
   "display_name": "Python 3",
   "language": "python",
   "name": "python3"
  },
  "language_info": {
   "codemirror_mode": {
    "name": "ipython",
    "version": 3
   },
   "file_extension": ".py",
   "mimetype": "text/x-python",
   "name": "python",
   "nbconvert_exporter": "python",
   "pygments_lexer": "ipython3",
   "version": "3.8.8"
  }
 },
 "nbformat": 4,
 "nbformat_minor": 5
}
