{
 "cells": [
  {
   "cell_type": "code",
   "execution_count": null,
   "id": "05970d2e",
   "metadata": {},
   "outputs": [],
   "source": [
    "import csv\n",
    "from collections import defaultdict"
   ]
  },
  {
   "cell_type": "code",
   "execution_count": null,
   "id": "5c54b49f",
   "metadata": {},
   "outputs": [],
   "source": [
    "# Common protocol number -> name mappings\n",
    "# Extend if you expect other protocols\n",
    "PROTO_MAP = {\n",
    "    6: \"tcp\",\n",
    "    17: \"udp\",\n",
    "    1: \"icmp\",\n",
    "}"
   ]
  },
  {
   "cell_type": "code",
   "execution_count": null,
   "id": "f36f6559",
   "metadata": {},
   "outputs": [],
   "source": [
    "def load_lookup_table(lookup_csv_path):\n",
    "    lookup = {}\n",
    "    with open(lookup_csv_path, \"r\", encoding=\"utf-8\") as f:\n",
    "        reader = csv.reader(f)\n",
    "        for row in reader:\n",
    "            # Each valid line should have at least 3 fields\n",
    "            if len(row) < 3:\n",
    "                continue\n",
    "            dstport_str, proto_str, tag = row\n",
    "            # Make it case-insensitive by lowercasing the keys\n",
    "            key = (dstport_str.strip().lower(), proto_str.strip().lower())\n",
    "            lookup[key] = tag.strip()\n",
    "    return lookup\n",
    "\n",
    "def parse_flow_log_line(line):\n",
    "    parts = line.strip().split()\n",
    "    # Check the number of fields to be a valid version 2 log line if not enough return None\n",
    "    if len(parts) < 14:\n",
    "        return None\n",
    "\n",
    "    try:\n",
    "        version = int(parts[0])\n",
    "    except ValueError:\n",
    "        # If the version is not an integer, skip\n",
    "        return None\n",
    "    # We only handle version 2 logs in this script\n",
    "    if version != 2:       \n",
    "        return None\n",
    "\n",
    "    # Extract needed fields\n",
    "    dst_port_str = parts[6]\n",
    "    proto_num_str = parts[7]\n",
    "\n",
    "    # Convert protocol number to text (tcp/udp/icmp) if known\n",
    "    try:\n",
    "        proto_num = int(proto_num_str)\n",
    "        protocol_str = PROTO_MAP.get(proto_num, str(proto_num))\n",
    "    except ValueError:\n",
    "        protocol_str = proto_num_str  # fallback: raw string if not an integer\n",
    "\n",
    "    return {\n",
    "        \"dstport\": dst_port_str,\n",
    "        \"protocol\": protocol_str,\n",
    "    }"
   ]
  },
  {
   "cell_type": "code",
   "execution_count": null,
   "id": "1a49142b",
   "metadata": {},
   "outputs": [],
   "source": [
    "def main(flow_log_path, lookup_csv_path):\n",
    "    # 1. Load lookup table\n",
    "    lookup_dict = load_lookup_table(lookup_csv_path)\n",
    "\n",
    "    # 2. Prepare counters\n",
    "    tag_counts = defaultdict(int)         # tag -> count\n",
    "    port_proto_counts = defaultdict(int)  # (dstport, protocol) -> count\n",
    "\n",
    "    # 3. Read and parse the flow logs\n",
    "    with open(flow_log_path, \"r\", encoding=\"utf-8\") as f:\n",
    "        for line in f:\n",
    "            # Skip empty lines\n",
    "            if not line.strip():\n",
    "                continue\n",
    "\n",
    "            parsed = parse_flow_log_line(line)\n",
    "            if not parsed:\n",
    "                continue  # skip invalid lines or non-version-2 lines\n",
    "\n",
    "            # Standardize and pull out fields\n",
    "            dstport = parsed[\"dstport\"].strip()\n",
    "            protocol = parsed[\"protocol\"].strip().lower()  # ensure case-insensitive\n",
    "\n",
    "            # Keep track of (dstport, protocol) count\n",
    "            port_proto_key = (dstport, protocol)\n",
    "            port_proto_counts[port_proto_key] += 1\n",
    "\n",
    "            # Look for a tag in the lookup dict\n",
    "            lookup_key = (dstport.lower(), protocol.lower())\n",
    "            if lookup_key in lookup_dict:\n",
    "                tag = lookup_dict[lookup_key]\n",
    "            else:\n",
    "                tag = \"Untagged\"\n",
    "\n",
    "            # Increment the tag count\n",
    "            tag_counts[tag] += 1\n",
    "\n",
    "    # 4. Print results\n",
    "\n",
    "    # --- Tag Counts ---\n",
    "    print(\"Tag Counts:\")\n",
    "    print(\"Tag,Count\")\n",
    "    for tag, cnt in sorted(tag_counts.items()):\n",
    "        print(f\"{tag},{cnt}\")\n",
    "    print()  # blank line between sections\n",
    "\n",
    "    # --- Port/Protocol Combination Counts ---\n",
    "    print(\"Port/Protocol Combination Counts:\")\n",
    "    print(\"Port,Protocol,Count\")\n",
    "    for (port, proto), cnt in sorted(port_proto_counts.items()):\n",
    "        print(f\"{port},{proto},{cnt}\")"
   ]
  },
  {
   "cell_type": "code",
   "execution_count": null,
   "id": "69b76864",
   "metadata": {
    "scrolled": true
   },
   "outputs": [],
   "source": [
    "if __name__ == \"__main__\":\n",
    "\n",
    "    flow_log_file = 'flow_log.txt'\n",
    "    lookup_csv_file = 'lookup.csv'\n",
    "    main(flow_log_file, lookup_csv_file)\n"
   ]
  },
  {
   "cell_type": "code",
   "execution_count": null,
   "id": "ab2c3ad2",
   "metadata": {},
   "outputs": [],
   "source": []
  }
 ],
 "metadata": {
  "kernelspec": {
   "display_name": "Python 3",
   "language": "python",
   "name": "python3"
  },
  "language_info": {
   "codemirror_mode": {
    "name": "ipython",
    "version": 3
   },
   "file_extension": ".py",
   "mimetype": "text/x-python",
   "name": "python",
   "nbconvert_exporter": "python",
   "pygments_lexer": "ipython3",
   "version": "3.8.8"
  }
 },
 "nbformat": 4,
 "nbformat_minor": 5
}
