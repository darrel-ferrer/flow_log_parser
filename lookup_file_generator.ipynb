{
 "cells": [
  {
   "cell_type": "code",
   "execution_count": 1,
   "id": "3021296f",
   "metadata": {},
   "outputs": [
    {
     "name": "stdout",
     "output_type": "stream",
     "text": [
      "Generated lookup.txt with 10000 random entries.\n"
     ]
    }
   ],
   "source": [
    "import random\n",
    "\n",
    "def generate_random_lookup_table(filename=\"lookup_random.txt\", num_entries=100):\n",
    "    # Pool of realistic and additional tags\n",
    "    tags_pool = [\n",
    "        \"SSH\", \"HTTP\", \"HTTPS\", \"SMTP\", \"POP3\", \"IMAP\", \"DNS\", \"RDP\", \"TELNET\", \"TFTP\",\n",
    "        \"SNMP\", \"ICMP\", \"sv_P1\", \"sv_P2\", \"sv_P3\", \"sv_P4\", \"sv_P5\", \"email\"\n",
    "    ]\n",
    "\n",
    "    with open(filename, \"w\", encoding=\"ascii\") as f:\n",
    "        for _ in range(num_entries):\n",
    "            # Generate random values for dstport, protocol, and tag\n",
    "            dstport = random.randint(1, 65535)  # Random port between 1 and 65535\n",
    "            protocol = random.choice([\"tcp\", \"udp\", \"icmp\"])  # Random protocol\n",
    "            tag = random.choice(tags_pool)  # Random tag from the pool\n",
    "            f.write(f\"{dstport},{protocol},{tag}\\n\")\n",
    "\n",
    "    print(f\"Generated {filename} with {num_entries} random entries.\")\n",
    "\n",
    "if __name__ == \"__main__\":\n",
    "    # Example: Generate a lookup table with 100 entries\n",
    "    generate_random_lookup_table(\"lookup.txt\", num_entries=10000)\n"
   ]
  },
  {
   "cell_type": "code",
   "execution_count": null,
   "id": "72472e87",
   "metadata": {},
   "outputs": [],
   "source": []
  }
 ],
 "metadata": {
  "kernelspec": {
   "display_name": "Python 3",
   "language": "python",
   "name": "python3"
  },
  "language_info": {
   "codemirror_mode": {
    "name": "ipython",
    "version": 3
   },
   "file_extension": ".py",
   "mimetype": "text/x-python",
   "name": "python",
   "nbconvert_exporter": "python",
   "pygments_lexer": "ipython3",
   "version": "3.8.8"
  }
 },
 "nbformat": 4,
 "nbformat_minor": 5
}
